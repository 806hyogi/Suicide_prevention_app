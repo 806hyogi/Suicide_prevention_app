{
 "cells": [
  {
   "cell_type": "code",
   "execution_count": 33,
   "metadata": {
    "scrolled": true
   },
   "outputs": [
    {
     "name": "stdout",
     "output_type": "stream",
     "text": [
      "case 증상/과대망상\n",
      "유사한 질문 알바하는 중에 그 오빠 페북에 들어가봤는데, 약간 나한테 쓴 거 같은 글이 있는 거야.\n",
      "챗봇 답변 와, 정말요? 진짜인가요?\n",
      "유사도 0.4816882312297821\n"
     ]
    }
   ],
   "source": [
    "import pandas as pd\n",
    "from sentence_transformers import SentenceTransformer\n",
    "from sklearn.metrics.pairwise import cosine_similarity\n",
    "\n",
    "model = SentenceTransformer('jhgan/ko-sroberta-multitask')\n",
    "\n",
    "df['embedding'] = pd.Series([[]] * len(df)) # dummy\n",
    "\n",
    "df['embedding'] = df['user'].map(lambda x: list(model.encode(x)))\n",
    "\n",
    "df.to_csv('wellness_dataset.csv', index=False)\n",
    "\n",
    "#위 코드 너무 시간이 오래걸리니 한번만 실행 후 다음코드만 연속 실행\n",
    "\n",
    "text = '여기에 사용자가 보낸 메시지를 넣어줄 거에요'\n",
    "\n",
    "embedding = model.encode(text)\n",
    "\n",
    "df['distance'] = df['embedding'].map(lambda x: cosine_similarity([embedding], [x]).squeeze())\n",
    "\n",
    "answer = df.loc[df['distance'].idxmax()]\n",
    "\n",
    "answer['AI'] #이 부분이 답변"
   ]
  },
  {
   "cell_type": "code",
   "execution_count": 40,
   "metadata": {},
   "outputs": [
    {
     "name": "stdout",
     "output_type": "stream",
     "text": [
      "case 감정/불만\n",
      "유사한 질문 어휴, 그런 말은 나도 하겠네.\n",
      "챗봇 답변 기분이 풀릴 때까지 실컷 욕해도 좋아요. 제가 들어드릴게요.\n",
      "유사도 0.5034180879592896\n"
     ]
    }
   ],
   "source": [
    "text = '재밌잖아!'\n",
    "\n",
    "embedding = model.encode(text)\n",
    "\n",
    "df['distance'] = df['embedding'].map(lambda x: cosine_similarity([embedding], [x]).squeeze())\n",
    "\n",
    "answer = df.loc[df['distance'].idxmax()]\n",
    "\n",
    "print('case', answer['case'])\n",
    "print('유사한 질문', answer['user'])\n",
    "print('챗봇 답변', answer['AI']) #이 부분의 answer['AI']가 전송 될 부분!\n",
    "print('유사도', answer['distance'])\n"
   ]
  },
  {
   "cell_type": "code",
   "execution_count": null,
   "metadata": {},
   "outputs": [],
   "source": []
  }
 ],
 "metadata": {
  "kernelspec": {
   "display_name": "Python 3 (ipykernel)",
   "language": "python",
   "name": "python3"
  },
  "language_info": {
   "codemirror_mode": {
    "name": "ipython",
    "version": 3
   },
   "file_extension": ".py",
   "mimetype": "text/x-python",
   "name": "python",
   "nbconvert_exporter": "python",
   "pygments_lexer": "ipython3",
   "version": "3.9.13"
  }
 },
 "nbformat": 4,
 "nbformat_minor": 4
}
